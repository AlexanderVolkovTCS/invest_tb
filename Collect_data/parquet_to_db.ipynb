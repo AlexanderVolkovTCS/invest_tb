{
 "cells": [
  {
   "cell_type": "code",
   "execution_count": 29,
   "id": "53b7ca64-ff8f-451c-bac7-666095db7992",
   "metadata": {},
   "outputs": [
    {
     "data": {
      "text/html": [
       "\n",
       "            <div>\n",
       "                <p><b>SparkSession - in-memory</b></p>\n",
       "                \n",
       "        <div>\n",
       "            <p><b>SparkContext</b></p>\n",
       "\n",
       "            <p><a href=\"http://192.168.1.3:4040\">Spark UI</a></p>\n",
       "\n",
       "            <dl>\n",
       "              <dt>Version</dt>\n",
       "                <dd><code>v3.2.1</code></dd>\n",
       "              <dt>Master</dt>\n",
       "                <dd><code>local</code></dd>\n",
       "              <dt>AppName</dt>\n",
       "                <dd><code>tinkof-invest</code></dd>\n",
       "            </dl>\n",
       "        </div>\n",
       "        \n",
       "            </div>\n",
       "        "
      ],
      "text/plain": [
       "<pyspark.sql.session.SparkSession at 0x7fcbf6073410>"
      ]
     },
     "execution_count": 29,
     "metadata": {},
     "output_type": "execute_result"
    }
   ],
   "source": [
    "from pyspark.sql import SparkSession\n",
    "import psycopg2\n",
    "import pandas as pd\n",
    "import os\n",
    "from pyspark.sql import SparkSession\n",
    "from sqlalchemy import create_engine\n",
    "from pyspark import SparkConf\n",
    "\n",
    "# initialise sparkContext\n",
    "\n",
    "spark = SparkSession.builder.config(\"spark.jars\", \"postgresql-42.2.5.jar\")\\\n",
    "    .config(\"spark.jars.packages\",\"org.postgresql:postgresql:42.2.5\")\\\n",
    "    .config('spark.driver.maxResultSize','20g').config(\"spark.executor.memory\", \"20g\")\\\n",
    "    .config(\"spark.driver.memory\",\"20g\").config(\"spark.executor.memory\",\"20g\")\\\n",
    "    .config(\"spark.shuffle.file.buffer\",'40').config(\"spark.scheduler.listenerbus.eventqueue.capacity\",\"10000000\")\\\n",
    "    .master(\"local\").appName(\"tinkof-invest\").getOrCreate()\n",
    "spark.conf.set(\"spark.sql.execution.arrow.enabled\", True)\n",
    "spark.sparkContext.setLogLevel(\"ERROR\")\n",
    "spark\n"
   ]
  },
  {
   "cell_type": "code",
   "execution_count": 2,
   "id": "60de3e23-86c8-47ff-8925-c2add1e77927",
   "metadata": {},
   "outputs": [],
   "source": [
    "hour = spark.createDataFrame(pd.read_parquet('all_candles_hour.parquet'))"
   ]
  },
  {
   "cell_type": "code",
   "execution_count": 9,
   "id": "785671e9-653a-4d28-ac6e-b5b62c7ed59f",
   "metadata": {},
   "outputs": [],
   "source": [
    "min_15 = spark.createDataFrame(pd.read_parquet('all_candles_15min.parquet'))"
   ]
  },
  {
   "cell_type": "code",
   "execution_count": 11,
   "id": "6259d97f-c297-4234-a7c3-0c7afe66fd8f",
   "metadata": {},
   "outputs": [],
   "source": [
    "min_5 = spark.createDataFrame(pd.read_parquet('all_candles_5min.parquet'))"
   ]
  },
  {
   "cell_type": "code",
   "execution_count": 13,
   "id": "03e66ef3-36f5-4de8-b979-4bfd8e5baf46",
   "metadata": {},
   "outputs": [],
   "source": [
    "min_1 = spark.createDataFrame(pd.read_parquet('all_candles_1min.parquet'))"
   ]
  },
  {
   "cell_type": "code",
   "execution_count": 25,
   "id": "51ed94fc-aaa5-4d03-a083-0bfa729785be",
   "metadata": {},
   "outputs": [],
   "source": [
    "mode = \"append\"\n",
    "url = \"jdbc:postgresql://localhost:5432/shares\"\n",
    "properties = {\"user\": \"nikolay\",\"password\": \"Andone1\",\"driver\": \"org.postgresql.Driver\"}\n"
   ]
  },
  {
   "cell_type": "code",
   "execution_count": 6,
   "id": "726ee064-13c0-4d9a-ab1d-dbad5524658a",
   "metadata": {},
   "outputs": [
    {
     "data": {
      "text/plain": [
       "DataFrame[figi: string, time: timestamp, open: decimal(14,8), close: decimal(14,8), high: decimal(14,8), low: decimal(14,8), volume: double, is_complete: double]"
      ]
     },
     "execution_count": 6,
     "metadata": {},
     "output_type": "execute_result"
    }
   ],
   "source": [
    "hour"
   ]
  },
  {
   "cell_type": "code",
   "execution_count": 7,
   "id": "3452d8e8-5674-406c-925d-fa0401097f51",
   "metadata": {},
   "outputs": [
    {
     "name": "stderr",
     "output_type": "stream",
     "text": [
      "                                                                                \r"
     ]
    }
   ],
   "source": [
    "hour.write.jdbc(url=url, table=\"candles_hour\", mode=mode, properties=properties)"
   ]
  },
  {
   "cell_type": "code",
   "execution_count": 10,
   "id": "94a529a7-6fab-46f2-a257-cfd0d0a5c207",
   "metadata": {},
   "outputs": [
    {
     "name": "stderr",
     "output_type": "stream",
     "text": [
      "                                                                                \r"
     ]
    }
   ],
   "source": [
    "min_15.write.jdbc(url=url, table=\"candles_15min\", mode=mode, properties=properties)"
   ]
  },
  {
   "cell_type": "code",
   "execution_count": 12,
   "id": "76d9724b-370e-4112-952f-b68639281caf",
   "metadata": {},
   "outputs": [
    {
     "name": "stderr",
     "output_type": "stream",
     "text": [
      "                                                                                \r"
     ]
    }
   ],
   "source": [
    "min_5.write.jdbc(url=url, table=\"candles_5min\", mode=mode, properties=properties)"
   ]
  },
  {
   "cell_type": "code",
   "execution_count": 14,
   "id": "ca0e09b9-e766-4487-b6bb-440e53760639",
   "metadata": {},
   "outputs": [
    {
     "name": "stderr",
     "output_type": "stream",
     "text": [
      "                                                                                \r"
     ]
    }
   ],
   "source": [
    "min_1.write.jdbc(url=url, table=\"candles_1min\", mode=mode, properties=properties)"
   ]
  },
  {
   "cell_type": "code",
   "execution_count": 9,
   "id": "b62cdf18-b7f0-4f09-a9ae-88fff696f75e",
   "metadata": {},
   "outputs": [
    {
     "data": {
      "text/html": [
       "<div>\n",
       "<style scoped>\n",
       "    .dataframe tbody tr th:only-of-type {\n",
       "        vertical-align: middle;\n",
       "    }\n",
       "\n",
       "    .dataframe tbody tr th {\n",
       "        vertical-align: top;\n",
       "    }\n",
       "\n",
       "    .dataframe thead th {\n",
       "        text-align: right;\n",
       "    }\n",
       "</style>\n",
       "<table border=\"1\" class=\"dataframe\">\n",
       "  <thead>\n",
       "    <tr style=\"text-align: right;\">\n",
       "      <th></th>\n",
       "      <th>figi</th>\n",
       "      <th>time</th>\n",
       "      <th>open</th>\n",
       "      <th>close</th>\n",
       "      <th>high</th>\n",
       "      <th>low</th>\n",
       "      <th>volume</th>\n",
       "      <th>is_complete</th>\n",
       "    </tr>\n",
       "  </thead>\n",
       "  <tbody>\n",
       "    <tr>\n",
       "      <th>0</th>\n",
       "      <td>None</td>\n",
       "      <td>2022-02-22 07:00:00+00:00</td>\n",
       "      <td>0.00364500</td>\n",
       "      <td>0.00340000</td>\n",
       "      <td>0.00364500</td>\n",
       "      <td>0.00300500</td>\n",
       "      <td>954</td>\n",
       "      <td>True</td>\n",
       "    </tr>\n",
       "    <tr>\n",
       "      <th>1</th>\n",
       "      <td>None</td>\n",
       "      <td>2022-02-22 08:00:00+00:00</td>\n",
       "      <td>0.00339500</td>\n",
       "      <td>0.00337000</td>\n",
       "      <td>0.00349000</td>\n",
       "      <td>0.00332500</td>\n",
       "      <td>293</td>\n",
       "      <td>True</td>\n",
       "    </tr>\n",
       "    <tr>\n",
       "      <th>2</th>\n",
       "      <td>None</td>\n",
       "      <td>2022-02-22 09:00:00+00:00</td>\n",
       "      <td>0.00341500</td>\n",
       "      <td>0.00343500</td>\n",
       "      <td>0.00344000</td>\n",
       "      <td>0.00336500</td>\n",
       "      <td>56</td>\n",
       "      <td>True</td>\n",
       "    </tr>\n",
       "    <tr>\n",
       "      <th>3</th>\n",
       "      <td>None</td>\n",
       "      <td>2022-02-22 10:00:00+00:00</td>\n",
       "      <td>0.00344000</td>\n",
       "      <td>0.00346500</td>\n",
       "      <td>0.00346500</td>\n",
       "      <td>0.00340000</td>\n",
       "      <td>26</td>\n",
       "      <td>True</td>\n",
       "    </tr>\n",
       "    <tr>\n",
       "      <th>4</th>\n",
       "      <td>None</td>\n",
       "      <td>2022-02-22 11:00:00+00:00</td>\n",
       "      <td>0.00344000</td>\n",
       "      <td>0.00345500</td>\n",
       "      <td>0.00349000</td>\n",
       "      <td>0.00344000</td>\n",
       "      <td>39</td>\n",
       "      <td>True</td>\n",
       "    </tr>\n",
       "    <tr>\n",
       "      <th>...</th>\n",
       "      <td>...</td>\n",
       "      <td>...</td>\n",
       "      <td>...</td>\n",
       "      <td>...</td>\n",
       "      <td>...</td>\n",
       "      <td>...</td>\n",
       "      <td>...</td>\n",
       "      <td>...</td>\n",
       "    </tr>\n",
       "    <tr>\n",
       "      <th>4</th>\n",
       "      <td>None</td>\n",
       "      <td>2022-05-19 11:00:00+00:00</td>\n",
       "      <td>0.00356000</td>\n",
       "      <td>0.00356000</td>\n",
       "      <td>0.00356000</td>\n",
       "      <td>0.00356000</td>\n",
       "      <td>2</td>\n",
       "      <td>True</td>\n",
       "    </tr>\n",
       "    <tr>\n",
       "      <th>5</th>\n",
       "      <td>None</td>\n",
       "      <td>2022-05-19 12:00:00+00:00</td>\n",
       "      <td>0.00356500</td>\n",
       "      <td>0.00356500</td>\n",
       "      <td>0.00356500</td>\n",
       "      <td>0.00356500</td>\n",
       "      <td>13</td>\n",
       "      <td>True</td>\n",
       "    </tr>\n",
       "    <tr>\n",
       "      <th>6</th>\n",
       "      <td>None</td>\n",
       "      <td>2022-05-19 13:00:00+00:00</td>\n",
       "      <td>0.00355000</td>\n",
       "      <td>0.00356500</td>\n",
       "      <td>0.00356500</td>\n",
       "      <td>0.00355000</td>\n",
       "      <td>10</td>\n",
       "      <td>True</td>\n",
       "    </tr>\n",
       "    <tr>\n",
       "      <th>7</th>\n",
       "      <td>None</td>\n",
       "      <td>2022-05-19 14:00:00+00:00</td>\n",
       "      <td>0.00355000</td>\n",
       "      <td>0.00353500</td>\n",
       "      <td>0.00356000</td>\n",
       "      <td>0.00353500</td>\n",
       "      <td>43</td>\n",
       "      <td>True</td>\n",
       "    </tr>\n",
       "    <tr>\n",
       "      <th>8</th>\n",
       "      <td>None</td>\n",
       "      <td>2022-05-19 15:00:00+00:00</td>\n",
       "      <td>0.00355500</td>\n",
       "      <td>0.00355500</td>\n",
       "      <td>0.00356500</td>\n",
       "      <td>0.00355500</td>\n",
       "      <td>65</td>\n",
       "      <td>True</td>\n",
       "    </tr>\n",
       "  </tbody>\n",
       "</table>\n",
       "<p>326 rows × 8 columns</p>\n",
       "</div>"
      ],
      "text/plain": [
       "    figi                      time        open       close        high  \\\n",
       "0   None 2022-02-22 07:00:00+00:00  0.00364500  0.00340000  0.00364500   \n",
       "1   None 2022-02-22 08:00:00+00:00  0.00339500  0.00337000  0.00349000   \n",
       "2   None 2022-02-22 09:00:00+00:00  0.00341500  0.00343500  0.00344000   \n",
       "3   None 2022-02-22 10:00:00+00:00  0.00344000  0.00346500  0.00346500   \n",
       "4   None 2022-02-22 11:00:00+00:00  0.00344000  0.00345500  0.00349000   \n",
       "..   ...                       ...         ...         ...         ...   \n",
       "4   None 2022-05-19 11:00:00+00:00  0.00356000  0.00356000  0.00356000   \n",
       "5   None 2022-05-19 12:00:00+00:00  0.00356500  0.00356500  0.00356500   \n",
       "6   None 2022-05-19 13:00:00+00:00  0.00355000  0.00356500  0.00356500   \n",
       "7   None 2022-05-19 14:00:00+00:00  0.00355000  0.00353500  0.00356000   \n",
       "8   None 2022-05-19 15:00:00+00:00  0.00355500  0.00355500  0.00356500   \n",
       "\n",
       "           low  volume  is_complete  \n",
       "0   0.00300500     954         True  \n",
       "1   0.00332500     293         True  \n",
       "2   0.00336500      56         True  \n",
       "3   0.00340000      26         True  \n",
       "4   0.00344000      39         True  \n",
       "..         ...     ...          ...  \n",
       "4   0.00356000       2         True  \n",
       "5   0.00356500      13         True  \n",
       "6   0.00355000      10         True  \n",
       "7   0.00353500      43         True  \n",
       "8   0.00355500      65         True  \n",
       "\n",
       "[326 rows x 8 columns]"
      ]
     },
     "execution_count": 9,
     "metadata": {},
     "output_type": "execute_result"
    }
   ],
   "source": [
    "pd.read_parquet('debug/BBG000Q7GG57_hour_from_2022-02-21_to2022-05-20.parquet')"
   ]
  },
  {
   "cell_type": "code",
   "execution_count": 10,
   "id": "827f0a78-cf34-48cd-b4cb-e7a246373e84",
   "metadata": {},
   "outputs": [],
   "source": [
    "import os"
   ]
  },
  {
   "cell_type": "code",
   "execution_count": 19,
   "id": "b8dd33b9-3b37-4443-a3b5-a27e917605a3",
   "metadata": {},
   "outputs": [],
   "source": [
    "PATH = os.getcwd()"
   ]
  },
  {
   "cell_type": "code",
   "execution_count": 20,
   "id": "38372332-4c70-42bf-a6eb-536af34843b9",
   "metadata": {},
   "outputs": [],
   "source": [
    "files = os.listdir(PATH+'/debug')"
   ]
  },
  {
   "cell_type": "code",
   "execution_count": 33,
   "id": "a2bf961a-78f7-4434-bd2c-1422553d1ee1",
   "metadata": {},
   "outputs": [
    {
     "data": {
      "application/vnd.jupyter.widget-view+json": {
       "model_id": "27b38045719848fa92e574fc541458c7",
       "version_major": 2,
       "version_minor": 0
      },
      "text/plain": [
       "  0%|          | 0/290 [00:00<?, ?it/s]"
      ]
     },
     "metadata": {},
     "output_type": "display_data"
    },
    {
     "name": "stdout",
     "output_type": "stream",
     "text": [
      "#\n",
      "# A fatal error has been detected by the Java Runtime Environment:\n",
      "#\n",
      "#  Internal Error (methodData.cpp:1080), pid=77717, tid=77773\n",
      "#  Error: ShouldNotReachHere()\n",
      "#\n",
      "# JRE version: OpenJDK Runtime Environment (11.0.15+10) (build 11.0.15+10-Ubuntu-0ubuntu0.21.10.1)\n",
      "# Java VM: OpenJDK 64-Bit Server VM (11.0.15+10-Ubuntu-0ubuntu0.21.10.1, mixed mode, sharing, tiered, compressed oops, g1 gc, linux-amd64)\n",
      "# Core dump will be written. Default location: Core dumps may be processed with \"/usr/share/apport/apport -p%p -s%s -c%c -d%d -P%P -u%u -g%g -- %E\" (or dumping to /home/nikolay/Projects/tinkoff-invest/Collect_data/core.77717)\n",
      "#\n",
      "# An error report file with more information is saved as:\n",
      "# /home/nikolay/Projects/tinkoff-invest/Collect_data/hs_err_pid77717.log\n",
      "#\n",
      "# If you would like to submit a bug report, please visit:\n",
      "#   Unknown\n",
      "#\n"
     ]
    }
   ],
   "source": [
    "from tqdm.auto import tqdm\n",
    "mode = \"append\"\n",
    "url = \"jdbc:postgresql://localhost:5432/shares\"\n",
    "properties = {\"user\": \"nikolay\",\"password\": \"Andone1\",\"driver\": \"org.postgresql.Driver\"}\n",
    "for f in tqdm(files[4:]):\n",
    "    if 'hour' in f:\n",
    "        pd_df = pd.read_parquet(PATH+'/debug/'+f)\n",
    "        if not pd_df.empty:\n",
    "            pd_df.is_complete = pd_df.is_complete.apply(int)\n",
    "            hour = spark.createDataFrame(pd_df)\n",
    "            hour.write.jdbc(url=url, table=\"candles_hour_rus\", mode=mode, properties=properties)\n",
    "    elif 'day' in f:\n",
    "        pd_df = pd.read_parquet(PATH+'/debug/'+f)\n",
    "        if not pd_df.empty:\n",
    "            pd_df.is_complete = pd_df.is_complete.apply(int)\n",
    "            day = spark.createDataFrame(pd_df)\n",
    "            day.write.jdbc(url=url, table=\"candles_day_rus\", mode=mode, properties=properties)"
   ]
  },
  {
   "cell_type": "code",
   "execution_count": 32,
   "id": "328c8444-395d-4dab-98cf-a67a81a2cd47",
   "metadata": {},
   "outputs": [
    {
     "data": {
      "application/vnd.jupyter.widget-view+json": {
       "model_id": "962722a0a7534fb6906a215e10e391f6",
       "version_major": 2,
       "version_minor": 0
      },
      "text/plain": [
       "  0%|          | 0/10 [00:00<?, ?it/s]"
      ]
     },
     "metadata": {},
     "output_type": "display_data"
    },
    {
     "name": "stdout",
     "output_type": "stream",
     "text": [
      "            figi                      time        open       close  \\\n",
      "0   BBG003BNWBP3 2022-02-22 07:00:00+00:00  1.85000000  1.71500000   \n",
      "1   BBG003BNWBP3 2022-02-22 08:00:00+00:00  1.71400000  1.68500000   \n",
      "2   BBG003BNWBP3 2022-02-22 09:00:00+00:00  1.66500000  1.69900000   \n",
      "3   BBG003BNWBP3 2022-02-22 10:00:00+00:00  1.66700000  1.78900000   \n",
      "4   BBG003BNWBP3 2022-02-22 11:00:00+00:00  1.78100000  1.74600000   \n",
      "..           ...                       ...         ...         ...   \n",
      "4   BBG003BNWBP3 2022-05-19 11:00:00+00:00  2.00400000  2.00000000   \n",
      "5   BBG003BNWBP3 2022-05-19 12:00:00+00:00  1.99500000  2.01400000   \n",
      "6   BBG003BNWBP3 2022-05-19 13:00:00+00:00  2.01400000  2.00900000   \n",
      "7   BBG003BNWBP3 2022-05-19 14:00:00+00:00  2.00900000  2.00800000   \n",
      "8   BBG003BNWBP3 2022-05-19 15:00:00+00:00  2.01300000  2.01100000   \n",
      "\n",
      "          high         low  volume  is_complete  \n",
      "0   1.88800000  1.50000000   18136         True  \n",
      "1   1.77700000  1.63000000    4450         True  \n",
      "2   1.72500000  1.64500000    2238         True  \n",
      "3   1.78900000  1.63000000    6998         True  \n",
      "4   1.79000000  1.69500000    4569         True  \n",
      "..         ...         ...     ...          ...  \n",
      "4   2.00800000  1.99600000     239         True  \n",
      "5   2.02300000  1.98400000    3245         True  \n",
      "6   2.02400000  1.99500000     842         True  \n",
      "7   2.01600000  2.00600000     370         True  \n",
      "8   2.01300000  2.00300000     735         True  \n",
      "\n",
      "[327 rows x 8 columns]\n",
      "            figi                      time           open          close  \\\n",
      "0   BBG006L8G4H1 2022-02-21 18:00:00+00:00  3040.00000000  2989.20000000   \n",
      "1   BBG006L8G4H1 2022-02-21 19:00:00+00:00  2983.80000000  3002.20000000   \n",
      "2   BBG006L8G4H1 2022-02-21 20:00:00+00:00  3009.20000000  3065.80000000   \n",
      "3   BBG006L8G4H1 2022-02-22 07:00:00+00:00  2976.60000000  2974.80000000   \n",
      "4   BBG006L8G4H1 2022-02-22 08:00:00+00:00  2974.40000000  2930.00000000   \n",
      "..           ...                       ...            ...            ...   \n",
      "4   BBG006L8G4H1 2022-04-29 11:00:00+00:00  1754.60000000  1759.00000000   \n",
      "5   BBG006L8G4H1 2022-04-29 12:00:00+00:00  1758.80000000  1763.20000000   \n",
      "6   BBG006L8G4H1 2022-04-29 13:00:00+00:00  1764.20000000  1762.00000000   \n",
      "7   BBG006L8G4H1 2022-04-29 14:00:00+00:00  1762.40000000  1778.00000000   \n",
      "8   BBG006L8G4H1 2022-04-29 15:00:00+00:00  1778.00000000  1766.60000000   \n",
      "\n",
      "             high            low  volume  is_complete  \n",
      "0   3115.00000000  2940.00000000  649059         True  \n",
      "1   3110.00000000  2845.00000000  887765         True  \n",
      "2   3110.00000000  2961.20000000  259861         True  \n",
      "3   3035.80000000  2907.00000000  626377         True  \n",
      "4   3059.80000000  2913.20000000  748659         True  \n",
      "..            ...            ...     ...          ...  \n",
      "4   1768.80000000  1736.00000000   22281         True  \n",
      "5   1765.00000000  1752.00000000   20316         True  \n",
      "6   1777.00000000  1754.40000000   34871         True  \n",
      "7   1782.20000000  1760.00000000   27890         True  \n",
      "8   1778.20000000  1764.00000000   22827         True  \n",
      "\n",
      "[341 rows x 8 columns]\n",
      "            figi                      time          open         close  \\\n",
      "0   BBG0047315Y7 2022-02-21 18:00:00+00:00  198.86000000  188.59000000   \n",
      "1   BBG0047315Y7 2022-02-21 19:00:00+00:00  188.59000000  191.64000000   \n",
      "2   BBG0047315Y7 2022-02-21 20:00:00+00:00  191.02000000  195.01000000   \n",
      "3   BBG0047315Y7 2022-02-22 07:00:00+00:00  185.78000000  181.91000000   \n",
      "4   BBG0047315Y7 2022-02-22 08:00:00+00:00  181.92000000  180.54000000   \n",
      "..           ...                       ...           ...           ...   \n",
      "4   BBG0047315Y7 2022-05-19 11:00:00+00:00  122.42000000  122.12000000   \n",
      "5   BBG0047315Y7 2022-05-19 12:00:00+00:00  122.11000000  122.57000000   \n",
      "6   BBG0047315Y7 2022-05-19 13:00:00+00:00  122.58000000  122.60000000   \n",
      "7   BBG0047315Y7 2022-05-19 14:00:00+00:00  122.60000000  122.88000000   \n",
      "8   BBG0047315Y7 2022-05-19 15:00:00+00:00  122.90000000  122.81000000   \n",
      "\n",
      "            high           low   volume  is_complete  \n",
      "0   199.99000000  185.70000000   682055         True  \n",
      "1   206.50000000  180.20000000  1157796         True  \n",
      "2   199.40000000  190.41000000   330059         True  \n",
      "3   188.11000000  176.00000000  1209716         True  \n",
      "4   185.55000000  177.79000000   939785         True  \n",
      "..           ...           ...      ...          ...  \n",
      "4   123.00000000  122.12000000    13928         True  \n",
      "5   123.29000000  122.01000000    18691         True  \n",
      "6   122.85000000  122.21000000     9325         True  \n",
      "7   122.98000000  122.50000000     8707         True  \n",
      "8   122.98000000  122.80000000    12906         True  \n",
      "\n",
      "[353 rows x 8 columns]\n",
      "Empty DataFrame\n",
      "Columns: []\n",
      "Index: []\n",
      "            figi                      time             open            close  \\\n",
      "0   BBG00475KHX6 2021-01-25 07:00:00+00:00  145000.00000000  145300.00000000   \n",
      "1   BBG00475KHX6 2021-01-26 07:00:00+00:00  145350.00000000  146850.00000000   \n",
      "0   BBG00475KHX6 2021-01-26 07:00:00+00:00  145350.00000000  146850.00000000   \n",
      "1   BBG00475KHX6 2021-01-27 07:00:00+00:00  146700.00000000  145650.00000000   \n",
      "0   BBG00475KHX6 2021-01-27 07:00:00+00:00  146700.00000000  145650.00000000   \n",
      "..           ...                       ...              ...              ...   \n",
      "1   BBG00475KHX6 2021-12-23 07:00:00+00:00  162450.00000000  163100.00000000   \n",
      "0   BBG00475KHX6 2021-12-23 07:00:00+00:00  162450.00000000  163100.00000000   \n",
      "1   BBG00475KHX6 2021-12-24 07:00:00+00:00  163000.00000000  162600.00000000   \n",
      "0   BBG00475KHX6 2021-12-24 07:00:00+00:00  163000.00000000  162600.00000000   \n",
      "0   BBG00475KHX6 2021-12-27 07:00:00+00:00  162950.00000000  164000.00000000   \n",
      "\n",
      "               high              low  volume  is_complete  \n",
      "0   146350.00000000  144700.00000000     969         True  \n",
      "1   147600.00000000  145100.00000000    1239         True  \n",
      "0   147600.00000000  145100.00000000    1239         True  \n",
      "1   146800.00000000  144050.00000000    1237         True  \n",
      "0   146800.00000000  144050.00000000    1237         True  \n",
      "..              ...              ...     ...          ...  \n",
      "1   164500.00000000  159700.00000000    2104         True  \n",
      "0   164500.00000000  159700.00000000    2104         True  \n",
      "1   164100.00000000  161500.00000000     516         True  \n",
      "0   164100.00000000  161500.00000000     516         True  \n",
      "0   164300.00000000  162850.00000000    1057         True  \n",
      "\n",
      "[632 rows x 8 columns]\n",
      "            figi                      time         open        close  \\\n",
      "0   BBG000QF1Q17 2022-02-22 07:00:00+00:00  25.35000000  24.00000000   \n",
      "1   BBG000QF1Q17 2022-02-22 08:00:00+00:00  24.03000000  24.48000000   \n",
      "2   BBG000QF1Q17 2022-02-22 09:00:00+00:00  24.48000000  24.79000000   \n",
      "3   BBG000QF1Q17 2022-02-22 10:00:00+00:00  24.80000000  24.82000000   \n",
      "4   BBG000QF1Q17 2022-02-22 11:00:00+00:00  24.82000000  24.68000000   \n",
      "..           ...                       ...          ...          ...   \n",
      "4   BBG000QF1Q17 2022-05-19 11:00:00+00:00  33.45000000  33.69000000   \n",
      "5   BBG000QF1Q17 2022-05-19 12:00:00+00:00  33.60000000  33.50000000   \n",
      "6   BBG000QF1Q17 2022-05-19 13:00:00+00:00  33.54000000  33.33000000   \n",
      "7   BBG000QF1Q17 2022-05-19 14:00:00+00:00  33.37000000  33.22000000   \n",
      "8   BBG000QF1Q17 2022-05-19 15:00:00+00:00  33.23000000  33.30000000   \n",
      "\n",
      "           high          low  volume  is_complete  \n",
      "0   25.99000000  21.50000000    5679         True  \n",
      "1   24.58000000  23.00000000    1398         True  \n",
      "2   24.83000000  24.05000000    1234         True  \n",
      "3   24.86000000  24.37000000     472         True  \n",
      "4   24.97000000  24.59000000    1226         True  \n",
      "..          ...          ...     ...          ...  \n",
      "4   33.69000000  33.40000000     219         True  \n",
      "5   33.64000000  33.43000000     125         True  \n",
      "6   33.54000000  33.31000000     613         True  \n",
      "7   33.37000000  33.10000000     516         True  \n",
      "8   33.30000000  33.21000000     139         True  \n",
      "\n",
      "[327 rows x 8 columns]\n",
      "            figi                      time           open          close  \\\n",
      "0   BBG002YFXL29 2022-02-22 07:00:00+00:00  7210.00000000  6700.00000000   \n",
      "1   BBG002YFXL29 2022-02-22 08:00:00+00:00  6360.00000000  6210.00000000   \n",
      "2   BBG002YFXL29 2022-02-22 09:00:00+00:00  6410.00000000  6490.00000000   \n",
      "3   BBG002YFXL29 2022-02-22 10:00:00+00:00  6420.00000000  6510.00000000   \n",
      "4   BBG002YFXL29 2022-02-22 11:00:00+00:00  6740.00000000  6770.00000000   \n",
      "..           ...                       ...            ...            ...   \n",
      "2   BBG002YFXL29 2022-05-19 10:00:00+00:00  6740.00000000  6900.00000000   \n",
      "3   BBG002YFXL29 2022-05-19 11:00:00+00:00  6820.00000000  6820.00000000   \n",
      "4   BBG002YFXL29 2022-05-19 12:00:00+00:00  6780.00000000  6680.00000000   \n",
      "5   BBG002YFXL29 2022-05-19 14:00:00+00:00  6760.00000000  6760.00000000   \n",
      "6   BBG002YFXL29 2022-05-19 15:00:00+00:00  6780.00000000  6780.00000000   \n",
      "\n",
      "             high            low  volume  is_complete  \n",
      "0   7210.00000000  5370.00000000     218         True  \n",
      "1   6880.00000000  6140.00000000      56         True  \n",
      "2   6490.00000000  6230.00000000      15         True  \n",
      "3   6770.00000000  6420.00000000       8         True  \n",
      "4   6780.00000000  6630.00000000      10         True  \n",
      "..            ...            ...     ...          ...  \n",
      "2   6900.00000000  6670.00000000      24         True  \n",
      "3   6820.00000000  6820.00000000       1         True  \n",
      "4   6780.00000000  6680.00000000       8         True  \n",
      "5   6820.00000000  6750.00000000       9         True  \n",
      "6   6780.00000000  6780.00000000       1         True  \n",
      "\n",
      "[306 rows x 8 columns]\n",
      "            figi                      time          open         close  \\\n",
      "0   BBG004S68JR8 2022-02-22 07:00:00+00:00  205.00000000  204.00000000   \n",
      "1   BBG004S68JR8 2022-02-22 08:00:00+00:00  203.00000000  205.00000000   \n",
      "2   BBG004S68JR8 2022-02-22 09:00:00+00:00  205.00000000  205.00000000   \n",
      "3   BBG004S68JR8 2022-02-22 10:00:00+00:00  205.50000000  205.50000000   \n",
      "4   BBG004S68JR8 2022-02-22 11:00:00+00:00  205.50000000  205.50000000   \n",
      "..           ...                       ...           ...           ...   \n",
      "4   BBG004S68JR8 2022-05-19 11:00:00+00:00  182.00000000  179.50000000   \n",
      "5   BBG004S68JR8 2022-05-19 12:00:00+00:00  180.00000000  181.00000000   \n",
      "6   BBG004S68JR8 2022-05-19 13:00:00+00:00  181.00000000  180.00000000   \n",
      "7   BBG004S68JR8 2022-05-19 14:00:00+00:00  180.00000000  179.50000000   \n",
      "8   BBG004S68JR8 2022-05-19 15:00:00+00:00  179.50000000  180.00000000   \n",
      "\n",
      "            high           low  volume  is_complete  \n",
      "0   207.50000000  200.00000000    4939         True  \n",
      "1   206.00000000  200.50000000     177         True  \n",
      "2   206.00000000  205.00000000     516         True  \n",
      "3   206.00000000  205.00000000     225         True  \n",
      "4   206.00000000  205.00000000      38         True  \n",
      "..           ...           ...     ...          ...  \n",
      "4   182.50000000  179.50000000      79         True  \n",
      "5   181.00000000  179.00000000      97         True  \n",
      "6   181.00000000  180.00000000       9         True  \n",
      "7   180.00000000  179.50000000       5         True  \n",
      "8   181.00000000  179.00000000      37         True  \n",
      "\n",
      "[325 rows x 8 columns]\n",
      "            figi                      time         open        close  \\\n",
      "0   BBG000K3STR7 2022-02-22 07:00:00+00:00  12.77600000  12.50200000   \n",
      "1   BBG000K3STR7 2022-02-22 08:00:00+00:00  12.53000000  12.55800000   \n",
      "2   BBG000K3STR7 2022-02-22 09:00:00+00:00  12.55800000  12.52400000   \n",
      "3   BBG000K3STR7 2022-02-22 10:00:00+00:00  12.52400000  12.62800000   \n",
      "4   BBG000K3STR7 2022-02-22 11:00:00+00:00  12.62800000  12.68600000   \n",
      "..           ...                       ...          ...          ...   \n",
      "4   BBG000K3STR7 2022-05-19 11:00:00+00:00  12.49000000  12.47200000   \n",
      "5   BBG000K3STR7 2022-05-19 12:00:00+00:00  12.47800000  12.49600000   \n",
      "6   BBG000K3STR7 2022-05-19 13:00:00+00:00  12.49600000  12.52000000   \n",
      "7   BBG000K3STR7 2022-05-19 14:00:00+00:00  12.52400000  12.47000000   \n",
      "8   BBG000K3STR7 2022-05-19 15:00:00+00:00  12.48400000  12.47000000   \n",
      "\n",
      "           high          low  volume  is_complete  \n",
      "0   13.36000000  11.02200000   23872         True  \n",
      "1   12.58000000  12.40200000    1089         True  \n",
      "2   12.58600000  12.49400000     845         True  \n",
      "3   12.62800000  12.49600000    9295         True  \n",
      "4   12.71600000  12.58000000    2074         True  \n",
      "..          ...          ...     ...          ...  \n",
      "4   12.49600000  12.46600000     893         True  \n",
      "5   12.49600000  12.47000000     847         True  \n",
      "6   12.53200000  12.49000000     798         True  \n",
      "7   12.52600000  12.46200000    2008         True  \n",
      "8   12.49200000  12.47000000     414         True  \n",
      "\n",
      "[327 rows x 8 columns]\n",
      "            figi                      time            open           close  \\\n",
      "0   BBG000SK7JS5 2021-01-25 07:00:00+00:00  18250.00000000  18640.00000000   \n",
      "1   BBG000SK7JS5 2021-01-26 07:00:00+00:00  18820.00000000  18610.00000000   \n",
      "0   BBG000SK7JS5 2021-01-26 07:00:00+00:00  18820.00000000  18610.00000000   \n",
      "1   BBG000SK7JS5 2021-01-27 07:00:00+00:00  18610.00000000  18650.00000000   \n",
      "0   BBG000SK7JS5 2021-01-27 07:00:00+00:00  18610.00000000  18650.00000000   \n",
      "..           ...                       ...             ...             ...   \n",
      "0   BBG000SK7JS5 2022-04-25 07:00:00+00:00  10780.00000000  10980.00000000   \n",
      "0   BBG000SK7JS5 2022-04-25 07:00:00+00:00  10780.00000000  10980.00000000   \n",
      "1   BBG000SK7JS5 2022-04-26 07:00:00+00:00  10970.00000000  10950.00000000   \n",
      "0   BBG000SK7JS5 2022-04-26 07:00:00+00:00  10970.00000000  10950.00000000   \n",
      "1   BBG000SK7JS5 2022-04-27 07:00:00+00:00  10950.00000000  11010.00000000   \n",
      "\n",
      "              high             low  volume  is_complete  \n",
      "0   18940.00000000  18250.00000000      94         True  \n",
      "1   18850.00000000  18420.00000000      75         True  \n",
      "0   18850.00000000  18420.00000000      75         True  \n",
      "1   18790.00000000  18610.00000000      54         True  \n",
      "0   18790.00000000  18610.00000000      54         True  \n",
      "..             ...             ...     ...          ...  \n",
      "0   11900.00000000  10620.00000000    2862         True  \n",
      "0   11900.00000000  10620.00000000    2862         True  \n",
      "1   11350.00000000  10680.00000000    2485         True  \n",
      "0   11350.00000000  10680.00000000    2485         True  \n",
      "1   11250.00000000  10800.00000000    1159         True  \n",
      "\n",
      "[628 rows x 8 columns]\n"
     ]
    }
   ],
   "source": [
    "for f in tqdm(files[:10]):\n",
    "    pd_df = pd.read_parquet(PATH+'/debug/'+f)\n",
    "    print(pd_df)"
   ]
  },
  {
   "cell_type": "code",
   "execution_count": null,
   "id": "6b606376-d002-4bc2-ba33-2b3d4f2e6654",
   "metadata": {},
   "outputs": [],
   "source": []
  }
 ],
 "metadata": {
  "kernelspec": {
   "display_name": "Python 3 (ipykernel)",
   "language": "python",
   "name": "python3"
  },
  "language_info": {
   "codemirror_mode": {
    "name": "ipython",
    "version": 3
   },
   "file_extension": ".py",
   "mimetype": "text/x-python",
   "name": "python",
   "nbconvert_exporter": "python",
   "pygments_lexer": "ipython3",
   "version": "3.7.6"
  }
 },
 "nbformat": 4,
 "nbformat_minor": 5
}
